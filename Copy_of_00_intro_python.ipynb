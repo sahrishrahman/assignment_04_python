{
  "nbformat": 4,
  "nbformat_minor": 0,
  "metadata": {
    "colab": {
      "provenance": [],
      "authorship_tag": "ABX9TyNqC42WYzdaXKh2RZgLcCGI",
      "include_colab_link": true
    },
    "kernelspec": {
      "name": "python3",
      "display_name": "Python 3"
    },
    "language_info": {
      "name": "python"
    }
  },
  "cells": [
    {
      "cell_type": "markdown",
      "metadata": {
        "id": "view-in-github",
        "colab_type": "text"
      },
      "source": [
        "<a href=\"https://colab.research.google.com/github/sahrishrahman/assignment_04_python/blob/main/Copy_of_00_intro_python.ipynb\" target=\"_parent\"><img src=\"https://colab.research.google.com/assets/colab-badge.svg\" alt=\"Open In Colab\"/></a>"
      ]
    },
    {
      "cell_type": "code",
      "execution_count": null,
      "metadata": {
        "colab": {
          "base_uri": "https://localhost:8080/"
        },
        "id": "wMdgkuAKFk6D",
        "outputId": "7fdd362e-c08a-46e5-f002-b5cfa440ae54"
      },
      "outputs": [
        {
          "output_type": "stream",
          "name": "stdout",
          "text": [
            "This application for add two numbers\n",
            "Enter your first number70\n",
            "Enter your second number60\n",
            "The total sum of 70 and 60 is 130\n"
          ]
        }
      ],
      "source": [
        "(\"01_add_two_numbers\")\n",
        "\n",
        "print(\"This application for add two numbers\")\n",
        "first_number =int(input(\"Enter your first number\"))\n",
        "second_number = int(input(\"Enter your second number\"))\n",
        "total = first_number + second_number\n",
        "print(f\"The total sum of {first_number} and {second_number} is {total}\")\n",
        "\n",
        "\n",
        "\n"
      ]
    },
    {
      "cell_type": "code",
      "source": [
        "# 01_add_two_numbers.py\n",
        "\n",
        "def add_two_numbers():\n",
        "    print(\"Welcome to the Addition Application!\\n\")\n",
        "\n",
        "    while True:\n",
        "        try:\n",
        "            # Taking input from user\n",
        "            first_number = int(input(\"Enter your first number: \"))\n",
        "            second_number = int(input(\"Enter your second number: \"))\n",
        "\n",
        "            # Calculating total\n",
        "            total = first_number + second_number\n",
        "\n",
        "            # Showing the result\n",
        "            print(f\"The total sum of {first_number} and {second_number} is {total}\\n\")\n",
        "        except ValueError:\n",
        "            print(\"Invalid input! Please enter numeric values only.\\n\")\n",
        "            continue\n",
        "\n",
        "        # Asking user if they want to do another addition\n",
        "        choice = input(\"Do you want to add two more numbers? (yes/no): \").strip().lower()\n",
        "        if choice != 'yes':\n",
        "            print(\"Thank you for using the Addition Application. Goodbye!\")\n",
        "            break\n",
        "\n",
        "# Running the function\n",
        "add_two_numbers()\n"
      ],
      "metadata": {
        "colab": {
          "base_uri": "https://localhost:8080/"
        },
        "id": "hWA25wx4PImv",
        "outputId": "5451c262-223d-42ab-a3b2-cce4b291f2ea"
      },
      "execution_count": null,
      "outputs": [
        {
          "output_type": "stream",
          "name": "stdout",
          "text": [
            "Welcome to the Addition Application!\n",
            "\n",
            "Enter your first number: 50\n",
            "Enter your second number: 98\n",
            "The total sum of 50 and 98 is 148\n",
            "\n",
            "Do you want to add two more numbers? (yes/no): no\n",
            "Thank you for using the Addition Application. Goodbye!\n"
          ]
        }
      ]
    },
    {
      "cell_type": "code",
      "source": [
        "(\"02_agreement_bot\")\n",
        "animal = str(input(\"what your favourite animal is?\"))\n",
        "print(f\"my favourite animal is also {animal} !\")\n",
        "print(\"thank you!\")\n",
        "\n",
        "\n"
      ],
      "metadata": {
        "colab": {
          "base_uri": "https://localhost:8080/"
        },
        "id": "k8ZuOAwZVXcZ",
        "outputId": "9f867373-c633-40c6-cb83-9e8fd5119e8d"
      },
      "execution_count": null,
      "outputs": [
        {
          "output_type": "stream",
          "name": "stdout",
          "text": [
            "what your favourite animal is?frog\n",
            "my favourite animal is also frog\n",
            "thank you!\n"
          ]
        }
      ]
    },
    {
      "cell_type": "code",
      "source": [
        "(\"03_fahrenheit_to_celsius\")\n",
        "print(\"this code for converting fahrenheit to celsius\")\n",
        "fahrenheit = float(input(\"Enter the temperature in Fahrenheit: \"))\n",
        "celsius = (fahrenheit - 32) * 5.0/9.0\n",
        "print(f\"{fahrenheit} degrees Fahrenheit is equal to {celsius:.2f} degrees Celsius\")\n",
        "\n"
      ],
      "metadata": {
        "colab": {
          "base_uri": "https://localhost:8080/"
        },
        "id": "meHlQGBzZ85k",
        "outputId": "3cef4b7f-ca2a-4010-97ae-13244b540258"
      },
      "execution_count": null,
      "outputs": [
        {
          "output_type": "stream",
          "name": "stdout",
          "text": [
            "this code for converting fahrenheit to celsius\n",
            "Enter the temperature in Fahrenheit: 76\n",
            "76.0 degrees Fahrenheit is equal to 24.44 degrees Celsius\n"
          ]
        }
      ]
    },
    {
      "cell_type": "code",
      "source": [
        "# 04_how_old_are_they?\n",
        "\n",
        "def add_ages():\n",
        "    anthon: int = 21\n",
        "    beth: int = anthon + 6\n",
        "    chen: int = beth + 20\n",
        "    drew: int = chen + anthon\n",
        "    ethen: int = chen\n",
        "\n",
        "    print(\"anthon is \" + str(anthon) + \" years old\")\n",
        "    print(\"beth is \" + str(beth) + \" years old\")\n",
        "    print(\"chen is \" + str(chen) + \" years old\")\n",
        "    print(\"drew is \" + str(drew) + \" years old\")\n",
        "    print(\"ethen is \" + str(ethen) + \" years old\")\n",
        "\n",
        "\n",
        "if __name__ == '__main__':\n",
        "    add_ages()\n"
      ],
      "metadata": {
        "colab": {
          "base_uri": "https://localhost:8080/"
        },
        "id": "dmWJn-RQbpCm",
        "outputId": "ba7d854a-feed-44fe-b743-d32fd3b05f5c"
      },
      "execution_count": null,
      "outputs": [
        {
          "output_type": "stream",
          "name": "stdout",
          "text": [
            "anthon is 21 years old\n",
            "beth is 27 years old\n",
            "chen is 47 years old\n",
            "drew is 68 years old\n",
            "ethen is 47 years old\n"
          ]
        }
      ]
    },
    {
      "cell_type": "code",
      "source": [
        "(\"05_triangle_perimeter\")\n",
        "\n",
        "def triangle():\n",
        "  print(\"this code for calculating the perimeter of a triangle\")\n",
        "  side1 = float(input(\"Enter the length of the first side: \"))\n",
        "  side2 = float(input(\"Enter the length of the second side: \"))\n",
        "  side3 = float(input(\"Enter the length of the third side: \"))\n",
        "  perimeter = side1 + side2 + side3\n",
        "  print(f\"The perimeter of the triangle is {perimeter:.2f}\")\n",
        "\n",
        "\n",
        "if __name__ == '__main__':\n",
        "    triangle()\n",
        "\n",
        "\n",
        "\n"
      ],
      "metadata": {
        "colab": {
          "base_uri": "https://localhost:8080/"
        },
        "id": "umeYAoYre4b6",
        "outputId": "a8f42887-ad4b-451d-d020-b610325692a3"
      },
      "execution_count": null,
      "outputs": [
        {
          "output_type": "stream",
          "name": "stdout",
          "text": [
            "this code for calculating the perimeter of a triangle\n",
            "Enter the length of the first side: 6.9\n",
            "Enter the length of the second side: 7.6\n",
            "Enter the length of the third side: 6.6\n",
            "The perimeter of the triangle is 21.10\n"
          ]
        }
      ]
    },
    {
      "cell_type": "code",
      "source": [
        "(\"06_square_number\")\n",
        "def square():\n",
        "    print(\"this code for calculating the square of a number\")\n",
        "    number = int(input(\"Enter a number: \"))\n",
        "    square = number ** 2\n",
        "    print(f\"The square of {number} is {square:.2f}\")\n",
        "\n",
        "\n",
        "if __name__ == '__main__':\n",
        "    square()\n",
        "\n"
      ],
      "metadata": {
        "colab": {
          "base_uri": "https://localhost:8080/"
        },
        "id": "SU8WFnlrkHz2",
        "outputId": "93c67fb7-7a23-4647-d9b8-af23e510fb8e"
      },
      "execution_count": null,
      "outputs": [
        {
          "output_type": "stream",
          "name": "stdout",
          "text": [
            "this code for calculating the square of a number\n",
            "Enter a number: 10\n",
            "The square of 10 is 100.00\n"
          ]
        }
      ]
    }
  ]
}